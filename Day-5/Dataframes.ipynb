{
 "cells": [
  {
   "cell_type": "code",
   "execution_count": null,
   "metadata": {},
   "outputs": [
    {
     "data": {
      "text/plain": [
       "      Name  Age  Salary Department\n",
       "0    Alice   25   50000         HR\n",
       "1      Bob   30   60000         IT\n",
       "2  Charlie   35   70000    Finance\n",
       "3    Diana   40   80000         IT\n"
      ]
     },
     "metadata": {},
     "output_type": "display_data"
    }
   ],
   "source": [
    "import pandas as pd\n",
    "df = pd.read_csv('C:/Users/Dell/Downloads/Salary.csv')\n",
    "\n",
    "print(df.head())"
   ]
  },
  {
   "cell_type": "code",
   "execution_count": null,
   "metadata": {},
   "outputs": [
    {
     "data": {
      "text/plain": [
       "      Name  Age  Salary Department\n",
       "2  Charlie   35   70000    Finance\n",
       "3    Diana   40   80000         IT\n"
      ]
     },
     "metadata": {},
     "output_type": "display_data"
    }
   ],
   "source": [
    "# Filtering the data\n",
    "Sal = df[df['Salary'] > 60000]\n",
    "print(Sal)\n"
   ]
  },
  {
   "cell_type": "code",
   "execution_count": null,
   "metadata": {},
   "outputs": [
    {
     "data": {
      "text/plain": [
       "    Name  Age  Salary Department\n",
       "3  Diana   40   80000         IT\n"
      ]
     },
     "metadata": {},
     "output_type": "display_data"
    }
   ],
   "source": [
    "Result = df[(df['Department'] == 'IT') & (df['Age'] > 30)]\n",
    "print(Result)"
   ]
  },
  {
   "cell_type": "code",
   "execution_count": null,
   "metadata": {},
   "outputs": [
    {
     "data": {
      "text/plain": [
       "      Name  Age  Salary Department\n",
       "0    Alice   25   50000         HR\n",
       "1      Bob   30   60000         IT\n",
       "2  Charlie   35   70000    Finance\n",
       "3    Diana   40   80000         IT\n"
      ]
     },
     "metadata": {},
     "output_type": "display_data"
    }
   ],
   "source": [
    "sorted_sal = df.sort_values(by='Salary')\n",
    "print(sorted_sal)"
   ]
  },
  {
   "cell_type": "code",
   "execution_count": null,
   "metadata": {},
   "outputs": [
    {
     "data": {
      "text/plain": [
       "Department\n",
       "Finance     70000\n",
       "HR          50000\n",
       "IT         140000\n",
       "Name: Salary, dtype: int64\n"
      ]
     },
     "metadata": {},
     "output_type": "display_data"
    }
   ],
   "source": [
    "## Group by 'Department' and calculate the sum of 'Salary'\n",
    "grouped_sum = df.groupby('Department')['Salary'].sum()\n",
    "print(grouped_sum)"
   ]
  }
 ],
 "metadata": {
  "language_info": {
   "name": "python"
  }
 },
 "nbformat": 4,
 "nbformat_minor": 2
}
