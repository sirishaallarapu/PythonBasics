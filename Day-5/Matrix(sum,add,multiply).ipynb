{
 "cells": [
  {
   "cell_type": "code",
   "execution_count": null,
   "metadata": {},
   "outputs": [],
   "source": [
    "# Matrix Addition and Subtraction"
   ]
  },
  {
   "cell_type": "code",
   "execution_count": null,
   "metadata": {},
   "outputs": [
    {
     "data": {
      "text/plain": [
       "Matrix Addition:\n",
       " [[ 6  8]\n",
       " [10 12]]\n",
       "\n",
       "Matrix Subtraction:\n",
       " [[-4 -4]\n",
       " [-4 -4]]\n"
      ]
     },
     "metadata": {},
     "output_type": "display_data"
    }
   ],
   "source": [
    "import numpy as np\n",
    "matrix_a = np.array([[1, 2], [3, 4]])\n",
    "matrix_b = np.array([[5, 6], [7, 8]])\n",
    "\n",
    "matrix_sum = matrix_a + matrix_b\n",
    "print(\"Matrix Addition:\\n\", matrix_sum)\n",
    "\n",
    "matrix_diff = matrix_a - matrix_b\n",
    "print(\"\\nMatrix Subtraction:\\n\", matrix_diff)"
   ]
  },
  {
   "cell_type": "code",
   "execution_count": null,
   "metadata": {},
   "outputs": [],
   "source": [
    "#Matrix Multiplication"
   ]
  },
  {
   "cell_type": "code",
   "execution_count": null,
   "metadata": {},
   "outputs": [
    {
     "data": {
      "text/plain": [
       "\n",
       "Multiplication:\n",
       " [[ 5 12]\n",
       " [21 32]]\n",
       "\n",
       "Matrix Dot Product:\n",
       " [[19 22]\n",
       " [43 50]]\n"
      ]
     },
     "metadata": {},
     "output_type": "display_data"
    }
   ],
   "source": [
    "matrix_mul = matrix_a * matrix_b\n",
    "print(\"\\nMultiplication:\\n\", matrix_mul)\n",
    "\n",
    "# Dot product\n",
    "matrix_dot = np.dot(matrix_a, matrix_b)\n",
    "print(\"\\nMatrix Dot Product:\\n\", matrix_dot)"
   ]
  },
  {
   "cell_type": "code",
   "execution_count": null,
   "metadata": {},
   "outputs": [
    {
     "data": {
      "text/plain": [
       "\n",
       "Matrix Transpose:\n",
       " [[1 3]\n",
       " [2 4]]\n"
      ]
     },
     "metadata": {},
     "output_type": "display_data"
    }
   ],
   "source": [
    "# Transpose of a matrix\n",
    "transpose_a = np.transpose(matrix_a)\n",
    "print(\"\\nMatrix Transpose:\\n\", transpose_a)\n"
   ]
  }
 ],
 "metadata": {
  "language_info": {
   "name": "python"
  }
 },
 "nbformat": 4,
 "nbformat_minor": 2
}
